{
 "cells": [
  {
   "cell_type": "markdown",
   "metadata": {},
   "source": [
    "<h1>TITTEL</h1>"
   ]
  },
  {
   "cell_type": "markdown",
   "metadata": {},
   "source": [
    "I 1915 lanserte Einstein den generelle relativitetsteorien, og denne forståelsen av tid, rom og gravitasjon endret fysikernes forståelse av sammenhengen mellom disse. Under utformingen av teorien viste Einstein at lyset krummes rundt massive objekter, som for eksempel sola, og denne teorien ble bevist av den britiske fysikeren Arthur Eddington i 1919. Denne artikkelen skal undersøke forskningsspørsmålet “Hvordan påvirker masse og tidrom lyset?”, og se nærmere på den generelle relativitetsteorien. Artikkelen presenterer også en forenklet modell av lysets krumning i tidrommet."
   ]
  },
  {
   "cell_type": "markdown",
   "metadata": {},
   "source": [
    "<br>\n",
    "Einsteins generelle relativitetsteori er en teori om gravitasjon. Teorien ble utformet som en konsekvens av Einsteins tidligere teori, som i dag blir kalt den spesielle relativitetsteorien. Det spesielle relativitetsprinsippet, bygger på Einsteins postulater: "
   ]
  },
  {
   "cell_type": "markdown",
   "metadata": {},
   "source": [
    "1. Fysikkens lover har samme form i alle treghetssystemer. \n",
    "2. Lysfarten i vakuum har samme verdi i alle treghetssystemer. "
   ]
  },
  {
   "cell_type": "markdown",
   "metadata": {},
   "source": [
    "For den spesielle relativitetsteorien anses et treghetssystem som et referansesystem der Newtons første lov gjelder. Ifølge Einsteins postulater har lysfarten i vakuum samme verdi i alle treghetssystemer. Lyset er bygget opp av elementærpartikkelen foton. Fotoner bærer på energi, men har ingen masse. For gjenstander med masse er bevegelsesmengden gitt ved:"
   ]
  },
  {
   "cell_type": "markdown",
   "metadata": {},
   "source": [
    "$$p=mv$$"
   ]
  },
  {
   "cell_type": "markdown",
   "metadata": {},
   "source": [
    "Dersom gjenstanden oppnår en fart som er større enn 10% av lysfarten c, må man regne relativistisk. Lysfarten i vakuum er gitt ved $c=3*10^8m/s$. Den relativistiske bevegelsmengden er da gitt ved: "
   ]
  },
  {
   "cell_type": "markdown",
   "metadata": {},
   "source": [
    "$$p=\\gamma mv$$"
   ]
  },
  {
   "cell_type": "markdown",
   "metadata": {},
   "source": [
    "Der $\\gamma$ er Lorentzfaktoren, gitt ved: "
   ]
  },
  {
   "cell_type": "markdown",
   "metadata": {},
   "source": [
    "$$\\gamma = \\frac{1}{\\sqrt{1-(\\frac{v}{c})^2}}$$"
   ]
  },
  {
   "cell_type": "markdown",
   "metadata": {},
   "source": [
    "Når v nærmer seg c, vil nevneren i Lorentzfaktoren gå mot null, og Lorentzfaktoren vil gå mot uendelig. Bevegelsesmengden til gjenstanden vil da bli uendelig stor, noe som betyr at det vil kreves en uendelig stor kraft for å akselerere gjenstanden nærmere lysfarten. Dette tilsier at ingenting kan oppnå en høyere fart enn lyset.  "
   ]
  },
  {
   "cell_type": "markdown",
   "metadata": {},
   "source": [
    "<figure>\n",
    "<img src=\"graf1.png\" width=\"300\" >\n",
    "<figcaption style=\"margin-right:300px;text-align:right;font-style:italic\"> Bilde 1. Relativistisk kinetisk energi. Ergo Fysikk 2. s181   (Callin et al., 2022)\n",
    "    </figcaption>\n",
    "</figure><br>"
   ]
  },
  {
   "cell_type": "markdown",
   "metadata": {},
   "source": [
    "<br>\n",
    "I den spesielle relativitetsteorien definerer Einstein treghetssystemet som et referansesystem der treghetsloven gjelder, altså at summen av kreftene i systemet er lik null (KILDE). Dette betyr at systemet har konstant eller ingen fart. Et legeme i fritt fall vil ikke oppleve å bli påvirket av noen krefter, på samme måte som i et treghetssystem. Dette kalles ekvivalensprinsippet, og gir grunnlaget for en utvidelse av treghetssystemets definisjon i det generelle relativitetsprinsippet. Ifølge Einstein er et referansesystem i fritt fall også et treghetssystem dersom gravitasjonsfeltet er homogent. I et homogent gravitasjonsfelt vil akselerasjonen være konstant. For å kunne beskrive inhomogene gravitasjonsfelt har den generelle relativitetsteorien utvidet relativitetsprinsippet der fysikkens lover har samme form i alle referansesystemer, ikke bare treghetssystemer i homogene gravitasjonsfelt."
   ]
  },
  {
   "cell_type": "markdown",
   "metadata": {},
   "source": [
    "På 1600-tallet omtalte Newton gravitasjon som en kraft som virker mellom objekter med masse. Denne gravitasjonsteorien var ikke forenelig med Einsteins spesielle relativitetsteori. Dersom sola plutselig forsvinner, vil man oppleve denne endringen momentant på jorda. Ifølge den spesielle relativitetsteorien er det ingenting som kan reise raskere enn lyset – ikke engang krefter mellom legemer. Einstein konkluderte dermed med at gravitasjon ikke kan være en kraft, og han definerte det heller som en geometrisk egenskap til selve rommet rundt legemer – tidrommet. Denne nye teorien om gravitasjon er en del av den generelle relativitetsteorien. "
   ]
  },
  {
   "cell_type": "markdown",
   "metadata": {},
   "source": [
    "<br>**Geometrisk eksempel**\n",
    "\n",
    "Det at gravitasjon påvirker tidrommet kan forklares med et geometrisk eksempel: "
   ]
  },
  {
   "cell_type": "markdown",
   "metadata": {},
   "source": [
    "1. To objekter blir sendt parallelt bortover på et plan. Dersom ingen ytre krefter utfører et arbeid på objektene, vil de fortsette i samme retning. "
   ]
  },
  {
   "cell_type": "markdown",
   "metadata": {},
   "source": [
    "<figure>\n",
    "<img src=\"GE1.png\" width=\"300\" >\n",
    "<figcaption style=\"margin-left:320px;text-align:left;font-style:italic\"> Bilde 2: <a style=\"color:gray\"href=\"https://titan.uio.no/blogg/2020/gravitasjon-er-krummet-tid-og-rom\"> Kilde </a>\n",
    "    </figcaption>\n",
    "</figure><br>"
   ]
  },
  {
   "cell_type": "markdown",
   "metadata": {},
   "source": [
    "\n",
    "2. De to objektene sendes først parallelt ut på planet, før så å gradvis bevege seg mot hverandre til de møtes. Med gravitasjonsteorien til Newton, ville forklaringen på denne bevegelsen vært at det virker en tiltrekningskraft mellom de to objektene. I Einsteins generelle relativitetsteori regnes ikke gravitasjon som en kraft, men heller en egenskap ved tidrommet. Bevegelsen til de to objektene kan også forklares med denne teorien. \n",
    "\n",
    " "
   ]
  },
  {
   "cell_type": "markdown",
   "metadata": {},
   "source": [
    "<figure>\n",
    "<img src=\"GE2.png\" width=\"300\" >\n",
    "<figcaption style=\"margin-left:320px;text-align:left;font-style:italic\"> Bilde 3:<a style=\"color:gray\"href=\"https://titan.uio.no/blogg/2020/gravitasjon-er-krummet-tid-og-rom\"> Kilde </a>\n",
    "    </figcaption>\n",
    "</figure><br>"
   ]
  },
  {
   "cell_type": "markdown",
   "metadata": {},
   "source": [
    "3. Tidligere antok man at de to objektene beveget seg langs et rett plan. Dersom de to objektene følger en rett linje langs et krummet plan, vil man oppleve at de først starter parallelt, før de skråner inn mot hverandre og møtes. Det samme vil skje med lengdegradene på jorda. På et kart vil linjene være parallelle, mens på en globus møtes de i polene. I begge tilfellene følger linjene en rett bane.  "
   ]
  },
  {
   "cell_type": "markdown",
   "metadata": {},
   "source": [
    "<figure>\n",
    "<img src=\"GE3.png\" width=\"300\" >\n",
    "<figcaption style=\"margin-left:320px;text-align:left;font-style:italic\"> Bilde 4: <a style=\"color:gray\"href=\"https://titan.uio.no/blogg/2020/gravitasjon-er-krummet-tid-og-rom\"> Kilde </a>\n",
    "    </figcaption>\n",
    "</figure><br>"
   ]
  },
  {
   "cell_type": "markdown",
   "metadata": {},
   "source": [
    "Det generelle relativitetsprinsippet bruker dermed geometrien til tidrommet for å forklare hvordan objekter kan oppleve gravitasjon uten at det fungerer tiltrekningskrefter mellom dem. De to objektene i eksempelet ovenfor kolliderer altså som et resultat av krumningen i overflaten de beveger seg på, og ikke fordi de trekkes mot hverandre. "
   ]
  },
  {
   "cell_type": "markdown",
   "metadata": {},
   "source": [
    "I sin generelle relativitetsteori beskrev Einstein gravitasjon som et resultat av at massive objekter, som planeter eller stjerner, krummer tidrommet rundt dem. Denne krumningen fungerer som en slags nedoverbakke som heller inn mot legemet, og jo større masse legemet har, desto brattere blir bakken. Solen, med sin masse på 333 000 jordmasser, skaper altså en større krumning i tidrommet enn det jorden gjør. Når solen går i bane rundt jorden, er det ikke fordi det oppstår tiltrekningskrefter mellom de to himmellegemene, men heller fordi tidrommet i seg selv er krummet rundt solen. Det samme gjelder gravitasjonen på jorden. En fallskjermhopper i fritt fall vil oppleve å bli «trukket» ned mot bakken fordi hun beveger seg langs en nedoverbakke jorden har skapt i tidrommet. "
   ]
  },
  {
   "cell_type": "markdown",
   "metadata": {},
   "source": [
    "<figure>\n",
    "<img src=\"spacetime.png\" width=\"500\" >\n",
    "<figcaption style=\"margin-left:250px;text-align:left;font-style:italic\">Bilde 5: <a style=\"color:gray\"href=\"https://uh.edu/~jclarage/astr3131/lectures/4/einstein/Einstein_stanford_Page7.html\"> Kilde </a>\n",
    "    </figcaption>\n",
    "</figure><br>"
   ]
  },
  {
   "cell_type": "markdown",
   "metadata": {},
   "source": [
    "\n",
    "**Krumning av lyset** <br>\n",
    "\n",
    "Med denne nye forståelsen av gravitasjon og tidrom kunne Einstein også vise hvordan lys kan krummes rundt massive legemer. Lys som beveger seg i tidrommet følger en rett linje, men vil bli avbøyd hvis tidrommet er krummet, på samme måte som lengdegradslinjene på en globus. Graden av denne avbøyningen kan fortelle hvor stor massen som forårsaker krumningene er. Da Einstein publiserte den generelle relativitetsteorien i 1914 var det lite fysisk bevis for at teorien hans stemte. Det var først i 1919, da den britiske fysikeren Arthur Eddington beviste krumningen av lyset at fysikerne ble enige om at Einsteins teori stemte. Eddington fotograferte stjernehimmelen rundt sola under en solformørkelse og observerte at stjernenes posisjon på himmelen ikke var som forventet. Ifølge tidligere observasjoner skulle stjernene ikke kunne observeres, da deres posisjon ville havne bak solen. Under solformørkelsen kunne man likevel se stjernene. Dette kunne forklares med Einsteins teori om lysets krumning rundt massive objekter. Lyset fra stjernene bak solen ble krummet av tidrommet rundt solen, noe som gjorde at Eddington kunne observere dem på jorda."
   ]
  },
  {
   "cell_type": "markdown",
   "metadata": {},
   "source": [
    "<figure>\n",
    "<img src=\"fig3.png\" width=\"500\" >\n",
    "<figcaption style=\"margin-left:250px;text-align:left;font-style:italic\">Bilde 6: <a style=\"color:gray\"href=\"https://weinsteing.wordpress.com/2017/12/20/the-geodesics-of-the-schwarzschild-metric-5/\"> Kilde </a>\n",
    "    </figcaption>\n",
    "</figure><br>"
   ]
  },
  {
   "cell_type": "markdown",
   "metadata": {},
   "source": [
    "\n",
    "**Modellering**\n",
    "\n",
    "Det finnes mange ulike modeller som forsøker å visualisere krumningen av tidrom. Man kan lage en forenklet modell av påvirkningen ulike himmellegemers masse har på avbøyingen av lyset ved bruk av et laken og kuleformede masser.   \n"
   ]
  },
  {
   "cell_type": "markdown",
   "metadata": {},
   "source": [
    "\n",
    "\n",
    "**Utstyrsliste:**\n",
    "-\tLaken\n",
    "-\tMålebånd \n",
    "-\tGaffateip \n",
    "-\tSkråplan\n",
    "-\tVekt \n",
    "-\tOmløpslegeme \n",
    "     - Klinkekule \n",
    "-\tSentrallegemer av ulik masse\n",
    "    - Innebandyball\n",
    "    - Boccia-ball\n",
    "    - Appelsin\n",
    "    - Fotball\n",
    "    - Mango \n",
    "-\tSelfie-stang/tripod med kamera\n"
   ]
  },
  {
   "cell_type": "markdown",
   "metadata": {},
   "source": [
    "**Metode**\n",
    "1.\tEt laken strekkes ut over et kvadratisk område over bakken, og mål sidelengdene. Bruker teip eller tau til å binde opp lakenet.\n",
    "2.\tBruk et skråplan for å gi klinkekulen en fast utgangsfart og vinkel. Pass på at skråplanet er festet godt slik at den ikke beveger seg mellom hver gjennomføring.  \n",
    "3.\tPlasser et kuleformet objekt i midten av lakenet og bruk skråplanet til å sende klinkekulen ut på lakenet. Film klinkekulens bevegelse og marker hvor klinkekula forlater lakenet etter en potensiell gjennomført krumning. Mål avstanden fra lakenets hjørne til merket.\n",
    "4.\tPlasserer et kuleformet objekt med høyere masse i midten av lakenet og send på nytt klinkekulen ut på lakenet, med samme fart og vinkel. Marker hvor klinkekula nå forlater lakenet og mål avstanden fra hjørnet. \n",
    "5.\tGjennomfør forsøket flere ganger med ulike sentrallegemer. "
   ]
  },
  {
   "cell_type": "markdown",
   "metadata": {},
   "source": [
    "**Resultater**"
   ]
  },
  {
   "attachments": {
    "Skjermbilde%202022-12-04%20kl.%2018.00.12.png": {
     "image/png": "[encoded data removed]"
    }
   },
   "cell_type": "markdown",
   "metadata": {},
   "source": [
    "![Skjermbilde%202022-12-04%20kl.%2018.00.12.png](attachment:Skjermbilde%202022-12-04%20kl.%2018.00.12.png)"
   ]
  },
  {
   "cell_type": "markdown",
   "metadata": {},
   "source": [
    "<video width=\"320\" height=\"240\" controls \n",
    "        src=https://youtu.be/2apKcYxx8yI \n",
    "        type=video/webm> \n",
    "</video>"
   ]
  },
  {
   "cell_type": "code",
   "execution_count": null,
   "metadata": {},
   "outputs": [],
   "source": []
  }
 ],
 "metadata": {
  "kernelspec": {
   "display_name": "Python 3",
   "language": "python",
   "name": "python3"
  },
  "language_info": {
   "codemirror_mode": {
    "name": "ipython",
    "version": 3
   },
   "file_extension": ".py",
   "mimetype": "text/x-python",
   "name": "python",
   "nbconvert_exporter": "python",
   "pygments_lexer": "ipython3",
   "version": "3.8.5"
  }
 },
 "nbformat": 4,
 "nbformat_minor": 4
}
